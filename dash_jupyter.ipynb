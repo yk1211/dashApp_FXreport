{
 "cells": [
  {
   "cell_type": "code",
   "execution_count": 42,
   "metadata": {
    "collapsed": true
   },
   "outputs": [],
   "source": [
    "import dash\n",
    "from dash.dependencies import Input, Output\n",
    "import dash_core_components as dcc\n",
    "import dash_html_components as html\n",
    "\n",
    "from plotly import graph_objs as go\n",
    "from datetime import datetime, date\n",
    "import calendar\n",
    "import json\n",
    "import pandas as pd\n",
    "import matplotlib.pyplot as plt\n",
    "%matplotlib inline"
   ]
  },
  {
   "cell_type": "code",
   "execution_count": 5,
   "metadata": {},
   "outputs": [
    {
     "data": {
      "text/html": [
       "<div>\n",
       "<style>\n",
       "    .dataframe thead tr:only-child th {\n",
       "        text-align: right;\n",
       "    }\n",
       "\n",
       "    .dataframe thead th {\n",
       "        text-align: left;\n",
       "    }\n",
       "\n",
       "    .dataframe tbody tr th {\n",
       "        vertical-align: top;\n",
       "    }\n",
       "</style>\n",
       "<table border=\"1\" class=\"dataframe\">\n",
       "  <thead>\n",
       "    <tr style=\"text-align: right;\">\n",
       "      <th></th>\n",
       "      <th>A</th>\n",
       "      <th>B</th>\n",
       "    </tr>\n",
       "  </thead>\n",
       "  <tbody>\n",
       "    <tr>\n",
       "      <th>0</th>\n",
       "      <td>No. of holdings</td>\n",
       "      <td>378.00</td>\n",
       "    </tr>\n",
       "    <tr>\n",
       "      <th>1</th>\n",
       "      <td>% in top 10</td>\n",
       "      <td>49.00</td>\n",
       "    </tr>\n",
       "    <tr>\n",
       "      <th>2</th>\n",
       "      <td>Historical Volatility Portfolio - 3 yr</td>\n",
       "      <td>4.15</td>\n",
       "    </tr>\n",
       "    <tr>\n",
       "      <th>3</th>\n",
       "      <td>Historical Tracking Error - 3 yr</td>\n",
       "      <td>4.14</td>\n",
       "    </tr>\n",
       "    <tr>\n",
       "      <th>4</th>\n",
       "      <td>Excess Returns - 3 yr</td>\n",
       "      <td>-1.32</td>\n",
       "    </tr>\n",
       "    <tr>\n",
       "      <th>5</th>\n",
       "      <td>R - 3 yr</td>\n",
       "      <td>0.04</td>\n",
       "    </tr>\n",
       "    <tr>\n",
       "      <th>6</th>\n",
       "      <td>Beta - 3 yr</td>\n",
       "      <td>9.55</td>\n",
       "    </tr>\n",
       "    <tr>\n",
       "      <th>7</th>\n",
       "      <td>Swing Pricing (%)</td>\n",
       "      <td>NaN</td>\n",
       "    </tr>\n",
       "    <tr>\n",
       "      <th>8</th>\n",
       "      <td>Subscription (%)</td>\n",
       "      <td>0.12</td>\n",
       "    </tr>\n",
       "    <tr>\n",
       "      <th>9</th>\n",
       "      <td>Redemption (%)</td>\n",
       "      <td>0.12</td>\n",
       "    </tr>\n",
       "    <tr>\n",
       "      <th>10</th>\n",
       "      <td>Initial Sales Charge: up to (%)</td>\n",
       "      <td>5.50</td>\n",
       "    </tr>\n",
       "    <tr>\n",
       "      <th>11</th>\n",
       "      <td>Performance Fee Rate (%)</td>\n",
       "      <td>20.00</td>\n",
       "    </tr>\n",
       "    <tr>\n",
       "      <th>12</th>\n",
       "      <td>(1) Total Expense Ratio (TER) (%)</td>\n",
       "      <td>1.25</td>\n",
       "    </tr>\n",
       "    <tr>\n",
       "      <th>13</th>\n",
       "      <td>Management Fee (%)</td>\n",
       "      <td>1.00</td>\n",
       "    </tr>\n",
       "    <tr>\n",
       "      <th>14</th>\n",
       "      <td>Distribution Fee (%)</td>\n",
       "      <td>0.00</td>\n",
       "    </tr>\n",
       "  </tbody>\n",
       "</table>\n",
       "</div>"
      ],
      "text/plain": [
       "                                         A       B\n",
       "0                          No. of holdings  378.00\n",
       "1                              % in top 10   49.00\n",
       "2   Historical Volatility Portfolio - 3 yr    4.15\n",
       "3         Historical Tracking Error - 3 yr    4.14\n",
       "4                    Excess Returns - 3 yr   -1.32\n",
       "5                                 R - 3 yr    0.04\n",
       "6                              Beta - 3 yr    9.55\n",
       "7                        Swing Pricing (%)     NaN\n",
       "8                         Subscription (%)    0.12\n",
       "9                           Redemption (%)    0.12\n",
       "10         Initial Sales Charge: up to (%)    5.50\n",
       "11                Performance Fee Rate (%)   20.00\n",
       "12       (1) Total Expense Ratio (TER) (%)    1.25\n",
       "13                      Management Fee (%)    1.00\n",
       "14                    Distribution Fee (%)    0.00"
      ]
     },
     "execution_count": 5,
     "metadata": {},
     "output_type": "execute_result"
    }
   ],
   "source": [
    "df_fund_data = pd.read_csv('https://plot.ly/~jackp/17534.csv')\n",
    "df_fund_data"
   ]
  },
  {
   "cell_type": "code",
   "execution_count": 7,
   "metadata": {},
   "outputs": [
    {
     "data": {
      "text/html": [
       "<div>\n",
       "<style>\n",
       "    .dataframe thead tr:only-child th {\n",
       "        text-align: right;\n",
       "    }\n",
       "\n",
       "    .dataframe thead th {\n",
       "        text-align: left;\n",
       "    }\n",
       "\n",
       "    .dataframe tbody tr th {\n",
       "        vertical-align: top;\n",
       "    }\n",
       "</style>\n",
       "<table border=\"1\" class=\"dataframe\">\n",
       "  <thead>\n",
       "    <tr style=\"text-align: right;\">\n",
       "      <th></th>\n",
       "      <th>Col1</th>\n",
       "      <th>Since Launch</th>\n",
       "      <th>1 Mth</th>\n",
       "      <th>3 Mths</th>\n",
       "      <th>YTD</th>\n",
       "      <th>1 Yr</th>\n",
       "      <th>3 Yrs</th>\n",
       "      <th>5 Yrs</th>\n",
       "      <th>10 Yrs</th>\n",
       "    </tr>\n",
       "  </thead>\n",
       "  <tbody>\n",
       "    <tr>\n",
       "      <th>0</th>\n",
       "      <td>NaN</td>\n",
       "      <td>Since Launch</td>\n",
       "      <td>1 Mth</td>\n",
       "      <td>3 Mths</td>\n",
       "      <td>YTD</td>\n",
       "      <td>1 Yr</td>\n",
       "      <td>3 Yrs</td>\n",
       "      <td>5 Yrs</td>\n",
       "      <td>10 Yrs</td>\n",
       "    </tr>\n",
       "    <tr>\n",
       "      <th>1</th>\n",
       "      <td>Base Shares</td>\n",
       "      <td>23.87</td>\n",
       "      <td>0.22</td>\n",
       "      <td>0.61</td>\n",
       "      <td>0.61</td>\n",
       "      <td>3.65</td>\n",
       "      <td>'-0.82</td>\n",
       "      <td>1.89</td>\n",
       "      <td>2.25</td>\n",
       "    </tr>\n",
       "    <tr>\n",
       "      <th>2</th>\n",
       "      <td>3 Month Libor (USD)</td>\n",
       "      <td>15.96</td>\n",
       "      <td>0.1</td>\n",
       "      <td>0.27</td>\n",
       "      <td>0.27</td>\n",
       "      <td>0.87</td>\n",
       "      <td>0.51</td>\n",
       "      <td>0.43</td>\n",
       "      <td>1.07</td>\n",
       "    </tr>\n",
       "    <tr>\n",
       "      <th>3</th>\n",
       "      <td>Other Currency Shares (EUR-Hedged)</td>\n",
       "      <td>20.09</td>\n",
       "      <td>0.06</td>\n",
       "      <td>0.21</td>\n",
       "      <td>0.21</td>\n",
       "      <td>2.24</td>\n",
       "      <td>'-1.48</td>\n",
       "      <td>1.46</td>\n",
       "      <td>2.09</td>\n",
       "    </tr>\n",
       "    <tr>\n",
       "      <th>4</th>\n",
       "      <td>ICE Libor EUR 3 Month (EUR)</td>\n",
       "      <td>15.7</td>\n",
       "      <td>'-0.03</td>\n",
       "      <td>'-0.09</td>\n",
       "      <td>'-0.09</td>\n",
       "      <td>'-0.32</td>\n",
       "      <td>'-0.09</td>\n",
       "      <td>0.04</td>\n",
       "      <td>1.19</td>\n",
       "    </tr>\n",
       "    <tr>\n",
       "      <th>5</th>\n",
       "      <td>Other Currency Shares (GBP-Hedged)</td>\n",
       "      <td>27.77</td>\n",
       "      <td>0.16</td>\n",
       "      <td>0.45</td>\n",
       "      <td>0.45</td>\n",
       "      <td>3.19</td>\n",
       "      <td>'-0.86</td>\n",
       "      <td>2.03</td>\n",
       "      <td>2.54</td>\n",
       "    </tr>\n",
       "    <tr>\n",
       "      <th>6</th>\n",
       "      <td>3 Month LIBOR - GBP</td>\n",
       "      <td>21.76</td>\n",
       "      <td>0.03</td>\n",
       "      <td>0.09</td>\n",
       "      <td>0.09</td>\n",
       "      <td>0.44</td>\n",
       "      <td>0.53</td>\n",
       "      <td>0.56</td>\n",
       "      <td>1.61</td>\n",
       "    </tr>\n",
       "  </tbody>\n",
       "</table>\n",
       "</div>"
      ],
      "text/plain": [
       "                                 Col1  Since Launch   1 Mth  3 Mths     YTD  \\\n",
       "0                                 NaN  Since Launch   1 Mth  3 Mths     YTD   \n",
       "1                         Base Shares         23.87    0.22    0.61    0.61   \n",
       "2                 3 Month Libor (USD)         15.96     0.1    0.27    0.27   \n",
       "3  Other Currency Shares (EUR-Hedged)         20.09    0.06    0.21    0.21   \n",
       "4         ICE Libor EUR 3 Month (EUR)          15.7  '-0.03  '-0.09  '-0.09   \n",
       "5  Other Currency Shares (GBP-Hedged)         27.77    0.16    0.45    0.45   \n",
       "6                 3 Month LIBOR - GBP         21.76    0.03    0.09    0.09   \n",
       "\n",
       "     1 Yr   3 Yrs  5 Yrs  10 Yrs  \n",
       "0    1 Yr   3 Yrs  5 Yrs  10 Yrs  \n",
       "1    3.65  '-0.82   1.89    2.25  \n",
       "2    0.87    0.51   0.43    1.07  \n",
       "3    2.24  '-1.48   1.46    2.09  \n",
       "4  '-0.32  '-0.09   0.04    1.19  \n",
       "5    3.19  '-0.86   2.03    2.54  \n",
       "6    0.44    0.53   0.56    1.61  "
      ]
     },
     "execution_count": 7,
     "metadata": {},
     "output_type": "execute_result"
    }
   ],
   "source": [
    "df_perf_summary = pd.read_csv('https://plot.ly/~jackp/17530.csv')\n",
    "df_perf_summary"
   ]
  },
  {
   "cell_type": "code",
   "execution_count": 8,
   "metadata": {},
   "outputs": [
    {
     "data": {
      "text/html": [
       "<div>\n",
       "<style>\n",
       "    .dataframe thead tr:only-child th {\n",
       "        text-align: right;\n",
       "    }\n",
       "\n",
       "    .dataframe thead th {\n",
       "        text-align: left;\n",
       "    }\n",
       "\n",
       "    .dataframe tbody tr th {\n",
       "        vertical-align: top;\n",
       "    }\n",
       "</style>\n",
       "<table border=\"1\" class=\"dataframe\">\n",
       "  <thead>\n",
       "    <tr style=\"text-align: right;\">\n",
       "      <th></th>\n",
       "      <th>Col1</th>\n",
       "      <th>Col2</th>\n",
       "      <th>Col3</th>\n",
       "      <th>Col4</th>\n",
       "      <th>Col5</th>\n",
       "      <th>Col6</th>\n",
       "    </tr>\n",
       "  </thead>\n",
       "  <tbody>\n",
       "    <tr>\n",
       "      <th>0</th>\n",
       "      <td>NaN</td>\n",
       "      <td>2012.0</td>\n",
       "      <td>2013.0</td>\n",
       "      <td>2014.0</td>\n",
       "      <td>2015.0</td>\n",
       "      <td>2016.0</td>\n",
       "    </tr>\n",
       "    <tr>\n",
       "      <th>1</th>\n",
       "      <td>Base Shares</td>\n",
       "      <td>10.2</td>\n",
       "      <td>5.7</td>\n",
       "      <td>-3.0</td>\n",
       "      <td>-0.7</td>\n",
       "      <td>1.4</td>\n",
       "    </tr>\n",
       "    <tr>\n",
       "      <th>2</th>\n",
       "      <td>3 Month Libor (USD)</td>\n",
       "      <td>0.4</td>\n",
       "      <td>0.3</td>\n",
       "      <td>0.2</td>\n",
       "      <td>0.3</td>\n",
       "      <td>0.8</td>\n",
       "    </tr>\n",
       "  </tbody>\n",
       "</table>\n",
       "</div>"
      ],
      "text/plain": [
       "                  Col1    Col2    Col3    Col4    Col5    Col6\n",
       "0                  NaN  2012.0  2013.0  2014.0  2015.0  2016.0\n",
       "1          Base Shares    10.2     5.7    -3.0    -0.7     1.4\n",
       "2  3 Month Libor (USD)     0.4     0.3     0.2     0.3     0.8"
      ]
     },
     "execution_count": 8,
     "metadata": {},
     "output_type": "execute_result"
    }
   ],
   "source": [
    "df_cal_year = pd.read_csv('https://plot.ly/~jackp/17528.csv')\n",
    "df_cal_year"
   ]
  },
  {
   "cell_type": "code",
   "execution_count": 9,
   "metadata": {
    "collapsed": true
   },
   "outputs": [],
   "source": [
    "df_perf_pc = pd.read_csv('https://plot.ly/~jackp/17532.csv')"
   ]
  },
  {
   "cell_type": "code",
   "execution_count": 17,
   "metadata": {
    "collapsed": true
   },
   "outputs": [],
   "source": [
    "def make_dash_table(df):\n",
    "    table = []\n",
    "    for index, row in df.iterrows():\n",
    "        html_row = []\n",
    "        for i in range(len(row)):\n",
    "            html_row.append( html.Td([  row[i]  ]) )\n",
    "        table.append( html.Tr( html_row ) )\n",
    "    return table"
   ]
  },
  {
   "cell_type": "code",
   "execution_count": 18,
   "metadata": {},
   "outputs": [],
   "source": [
    "modifed_perf_table = make_dash_table(df_perf_summary)"
   ]
  },
  {
   "cell_type": "code",
   "execution_count": 19,
   "metadata": {},
   "outputs": [
    {
     "data": {
      "text/plain": [
       "[Tr([Td([nan]), Td(['Since Launch']), Td(['1 Mth']), Td(['3 Mths']), Td(['YTD']), Td(['1 Yr']), Td(['3 Yrs']), Td(['5 Yrs']), Td(['10 Yrs'])]),\n",
       " Tr([Td(['Base Shares']), Td(['23.87']), Td(['0.22']), Td(['0.61']), Td(['0.61']), Td(['3.65']), Td([\"'-0.82\"]), Td(['1.89']), Td(['2.25'])]),\n",
       " Tr([Td(['3 Month Libor (USD)']), Td(['15.96']), Td(['0.1']), Td(['0.27']), Td(['0.27']), Td(['0.87']), Td(['0.51']), Td(['0.43']), Td(['1.07'])]),\n",
       " Tr([Td(['Other Currency Shares (EUR-Hedged)']), Td(['20.09']), Td(['0.06']), Td(['0.21']), Td(['0.21']), Td(['2.24']), Td([\"'-1.48\"]), Td(['1.46']), Td(['2.09'])]),\n",
       " Tr([Td(['ICE Libor EUR 3 Month (EUR)']), Td(['15.7']), Td([\"'-0.03\"]), Td([\"'-0.09\"]), Td([\"'-0.09\"]), Td([\"'-0.32\"]), Td([\"'-0.09\"]), Td(['0.04']), Td(['1.19'])]),\n",
       " Tr([Td(['Other Currency Shares (GBP-Hedged)']), Td(['27.77']), Td(['0.16']), Td(['0.45']), Td(['0.45']), Td(['3.19']), Td([\"'-0.86\"]), Td(['2.03']), Td(['2.54'])]),\n",
       " Tr([Td(['3 Month LIBOR - GBP']), Td(['21.76']), Td(['0.03']), Td(['0.09']), Td(['0.09']), Td(['0.44']), Td(['0.53']), Td(['0.56']), Td(['1.61'])])]"
      ]
     },
     "execution_count": 19,
     "metadata": {},
     "output_type": "execute_result"
    }
   ],
   "source": [
    "modifed_perf_table "
   ]
  },
  {
   "cell_type": "code",
   "execution_count": 20,
   "metadata": {
    "collapsed": true
   },
   "outputs": [],
   "source": [
    "modifed_perf_table.insert(\n",
    "    0, html.Tr( [\n",
    "                    html.Td([]),\n",
    "                    html.Td(['Cumulative'],  colSpan=4,  style=dict(textAlign=\"center\")),\n",
    "                    html.Td(['Annualized'], colSpan=4, style=dict(textAligh=\"center\")),\n",
    "             ], style= dict (background='white', fontweight=600)\n",
    "    )\n",
    ")"
   ]
  },
  {
   "cell_type": "code",
   "execution_count": 21,
   "metadata": {
    "collapsed": true
   },
   "outputs": [],
   "source": [
    "df_fund_info = pd.read_csv('https://plot.ly/~jackp/17544.csv')\n",
    "df_fund_characteristics = pd.read_csv('https://plot.ly/~jackp/17542.csv')\n",
    "df_fund_facts = pd.read_csv('https://plot.ly/~jackp/17540.csv')\n",
    "df_bond_allocation = pd.read_csv('https://plot.ly/~jackp/17538.csv')"
   ]
  },
  {
   "cell_type": "code",
   "execution_count": 22,
   "metadata": {},
   "outputs": [
    {
     "data": {
      "text/plain": [
       "'0.19.0'"
      ]
     },
     "execution_count": 22,
     "metadata": {},
     "output_type": "execute_result"
    }
   ],
   "source": [
    "dash.__version__"
   ]
  },
  {
   "cell_type": "code",
   "execution_count": 31,
   "metadata": {},
   "outputs": [],
   "source": []
  },
  {
   "cell_type": "code",
   "execution_count": 43,
   "metadata": {},
   "outputs": [],
   "source": [
    "t = date.today()\n",
    "t_year = t.year\n",
    "t_month = t.month\n",
    "t_day = t.day"
   ]
  },
  {
   "cell_type": "code",
   "execution_count": 50,
   "metadata": {},
   "outputs": [],
   "source": [
    "month_index = {}\n",
    "for i, v in enumerate(calendar.month_abbr):\n",
    "    month_index[i] = v"
   ]
  },
  {
   "cell_type": "code",
   "execution_count": 52,
   "metadata": {},
   "outputs": [
    {
     "data": {
      "text/plain": [
       "'Dec'"
      ]
     },
     "execution_count": 52,
     "metadata": {},
     "output_type": "execute_result"
    }
   ],
   "source": [
    "month_index[12]"
   ]
  },
  {
   "cell_type": "code",
   "execution_count": null,
   "metadata": {
    "collapsed": true
   },
   "outputs": [],
   "source": []
  }
 ],
 "metadata": {
  "kernelspec": {
   "display_name": "Python 3",
   "language": "python",
   "name": "python3"
  },
  "language_info": {
   "codemirror_mode": {
    "name": "ipython",
    "version": 3
   },
   "file_extension": ".py",
   "mimetype": "text/x-python",
   "name": "python",
   "nbconvert_exporter": "python",
   "pygments_lexer": "ipython3",
   "version": "3.6.1"
  }
 },
 "nbformat": 4,
 "nbformat_minor": 2
}
